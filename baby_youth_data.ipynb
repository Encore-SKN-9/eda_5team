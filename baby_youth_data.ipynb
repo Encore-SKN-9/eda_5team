{
 "cells": [
  {
   "cell_type": "markdown",
   "metadata": {},
   "source": [
    "### 분석 타겟 컬럼\n",
    "\n",
    "- Life_expectancy: 기대수명\n",
    "\n",
    "### 1번 (유아, 청소년 관련 변수)\n",
    "\n",
    "- Infant_deaths: 영아 사망 수\n",
    "- Under_five_deaths: 5세 이하 사망 수\n",
    "- Polio: 소아마비 예방접종률\n",
    "- Thinness_five_nine_years: 5-9세의 저체중 비율\n",
    "- Thinness_ten_nineteen_years: 10-19세의 저체중 비율\n",
    "\n",
    "---\n",
    "colorcode :'viridis'"
   ]
  },
  {
   "cell_type": "code",
   "execution_count": 12,
   "metadata": {},
   "outputs": [],
   "source": [
    "import numpy as np\n",
    "import pandas as pd\n",
    "import matplotlib.pyplot as plt\n",
    "import seaborn as sns"
   ]
  },
  {
   "cell_type": "code",
   "execution_count": null,
   "metadata": {},
   "outputs": [],
   "source": [
    "df = pd.read_csv('./data/Life-Expectancy-Data-Averaged.csv')\n",
    "df"
   ]
  },
  {
   "cell_type": "markdown",
   "metadata": {},
   "source": [
    "- list01 : 분석 타겟을 포함한 1번 카테고리의 컬럼 리스트\n",
    "- df_1st : 새로 분류한 데이터\n",
    "- val_1st : 분석 타겟을 제외한 컬럼 리스트"
   ]
  },
  {
   "cell_type": "code",
   "execution_count": 14,
   "metadata": {},
   "outputs": [],
   "source": [
    "# 1번 카테고리 따로 분류\n",
    "\n",
    "list01 = ['Life_expectancy', 'Infant_deaths', 'Under_five_deaths', 'Polio', 'Thinness_five_nine_years', 'Thinness_ten_nineteen_years']\n",
    "val_1st = ['Infant_deaths', 'Under_five_deaths', 'Polio', 'Thinness_five_nine_years', 'Thinness_ten_nineteen_years']\n",
    "\n",
    "df_1st = df[list01]"
   ]
  },
  {
   "cell_type": "code",
   "execution_count": null,
   "metadata": {},
   "outputs": [],
   "source": [
    "df_1st.info()"
   ]
  },
  {
   "cell_type": "markdown",
   "metadata": {},
   "source": [
    "#### 각 요소간의 상관관계 평가"
   ]
  },
  {
   "cell_type": "code",
   "execution_count": null,
   "metadata": {},
   "outputs": [],
   "source": [
    "corr_matrix = df_1st.corr(numeric_only=True)\n",
    "corr_matrix\n",
    "\n",
    "sns.heatmap(corr_matrix, annot=True, cmap='viridis')\n",
    "plt.show()"
   ]
  },
  {
   "cell_type": "markdown",
   "metadata": {},
   "source": [
    "- 0에 가까울수록 상관관계가 없고, 1은 양의 상관관계, -1은 음의 상관관계를 보여줌.\n",
    "#### Life_expectancy(기대수명)과 다른 요소들의 관계:\n",
    "- Infant_deaths와 Under_five_deaths: 상관계수 -0.93\n",
    "    - 매우 강한 음의 상관관계.\n",
    "    - 유아 사망률이나 5세 미만 사망률이 높을수록 기대수명이 낮아진다는 것을 보여줌.\n",
    "- Polio: 상관계수 0.68\n",
    "    - 중간 정도의 양의 상관관계.\n",
    "    - 소아마비 백신 접종률이 높을수록 기대수명이 증가하는 경향.\n",
    "- Thinness_five_nine_years 및 Thinness_ten_nineteen_years: 상관계수 각각 -0.49, -0.51\n",
    "    - 약한 음의 상관관계.\n",
    "    - 저체중율이 높아질수록 기대수명이 감소하는 경향이 있지만, 앞의 변수들에 비해 영향력이 적음.\n",
    "#### Infant_deaths와 Under_five_deaths:\n",
    "- 상관계수 0.99\n",
    "- 거의 완벽한 양의 상관관계.\n",
    "- 이는 유아 사망률과 5세 미만 사망률이 서로 밀접하게 연결되어 있다는 것을 의미함.\n",
    "- 실제로 유아 사망은 5세 미만 사망의 주요 구성 요소일 가능성이 큼.\n",
    "#### Thinness_five_nine_years와 Thinness_ten_nineteen_years:\n",
    "- 상관계수 0.99\n",
    "- 거의 완벽한 양의 상관관계.\n",
    "- 5~9세의 저체중은 10~19세의 저체중까지 밀접한 관계가 있음을 보여줌\n",
    "#### Polio와 다른 변수들:\n",
    "- Infant_deaths 및 Under_five_deaths와는 각각 -0.79로 음의 상관관계.\n",
    "- 소아마비 백신 접종률이 낮은 지역에서 유아 및 5세 미만 사망률이 높다는 것을 시사함.\n",
    "- Thinness 변수들과는 약한 음의 상관관계(-0.37).\n",
    "- 백신 접종률이 저체중율과도 연관이 있을 수 있지만, 관계는 약함."
   ]
  },
  {
   "cell_type": "markdown",
   "metadata": {},
   "source": [
    "####"
   ]
  },
  {
   "cell_type": "code",
   "execution_count": null,
   "metadata": {},
   "outputs": [],
   "source": [
    "fig, ax = plt.subplots(figsize=(15,10), ncols=3, nrows=2)\n",
    "\n",
    "columns = val_1st\n",
    "\n",
    "\n",
    "for i, col_name in enumerate(columns):\n",
    "    row = i // 3\n",
    "    col = i % 3\n",
    "    ax_temp = ax[row][col]\n",
    "\n",
    "    sns.regplot(data=df, x = col_name, y = 'Life_expectancy', ax = ax_temp)"
   ]
  },
  {
   "cell_type": "markdown",
   "metadata": {},
   "source": [
    "- 실제로 산점도를 그려보았을때 영유아기 사망률과 소아마비 백신 접종률은 기대수명과 밀접한 연관이 있지만 저체중 요소는 큰 연관성을 보여주지 못함"
   ]
  },
  {
   "cell_type": "code",
   "execution_count": null,
   "metadata": {},
   "outputs": [],
   "source": [
    "# 비슷한 변수 합치기\n",
    "df['Child_deaths'] = df['Infant_deaths'] + df['Under_five_deaths']\n",
    "df = df.drop(['Infant_deaths', 'Under_five_deaths'], axis=1)\n",
    "df['Thinness_youth'] = df['Thinness_five_nine_years'] + df['Thinness_ten_nineteen_years']\n",
    "df = df.drop(['Thinness_five_nine_years', 'Thinness_ten_nineteen_years'], axis=1)\n",
    "df"
   ]
  },
  {
   "cell_type": "code",
   "execution_count": null,
   "metadata": {},
   "outputs": [],
   "source": [
    "# 박스플롯 그리기\n",
    "columns = ['Life_expectancy','Child_deaths', 'Polio', 'Thinness_youth']\n",
    "\n",
    "plt.figure(figsize=(15, 15))\n",
    "for i, column in enumerate(columns, 1):\n",
    "    plt.subplot(2, 2, i)  \n",
    "    sns.boxplot(data=df, y=column, color=\"lightblue\")\n",
    "    plt.title(column)\n",
    "    plt.tight_layout()\n",
    "\n",
    "plt.show()"
   ]
  },
  {
   "cell_type": "code",
   "execution_count": null,
   "metadata": {},
   "outputs": [],
   "source": [
    "sns.barplot(data=df, y='Polio', hue='Region')\n",
    "plt.show()"
   ]
  },
  {
   "cell_type": "code",
   "execution_count": null,
   "metadata": {},
   "outputs": [],
   "source": [
    "sns.barplot(data=df, y='Life_expectancy', hue='Region')\n",
    "plt.show()"
   ]
  },
  {
   "cell_type": "code",
   "execution_count": null,
   "metadata": {},
   "outputs": [],
   "source": [
    "import pandas as pd\n",
    "from sklearn.model_selection import train_test_split\n",
    "from sklearn.linear_model import LinearRegression\n",
    "from sklearn.metrics import mean_squared_error, r2_score\n",
    "\n",
    "# 1. 데이터 준비\n",
    "# 예: df는 데이터프레임, y는 종속 변수, X는 독립 변수들\n",
    "X = df[['Child_deaths', 'Polio', 'Thinness_youth']]\n",
    "y = df['Life_expectancy']\n",
    "\n",
    "# 2. 훈련 데이터와 테스트 데이터 분리\n",
    "X_train, X_test, y_train, y_test = train_test_split(X, y, random_state=42)\n",
    "\n",
    "# 3. 회귀 모델 생성 및 학습\n",
    "lr = LinearRegression()  # 선형 회귀 모델 생성\n",
    "lr.fit(X_train, y_train)  # 학습 진행\n",
    "\n",
    "# 4. 모델 평가\n",
    "# 테스트 데이터에 대한 예측\n",
    "y_pred = lr.predict(X_test)\n",
    "\n",
    "# 성능 지표 계산\n",
    "mse = mean_squared_error(y_test, y_pred)  # 평균 제곱 오차\n",
    "r2 = r2_score(y_test, y_pred)  # R-squared (설명력)\n",
    "\n",
    "print(f\"Mean Squared Error: {mse:.2f}\")\n",
    "print(f\"R-squared: {r2:.2f}\")\n",
    "\n",
    "# 5. 회귀 계수 출력\n",
    "print(\"회귀 계수 (Coefficients):\", lr.coef_)\n",
    "print(\"절편 (Intercept):\", lr.intercept_)\n",
    "\n"
   ]
  }
 ],
 "metadata": {
  "kernelspec": {
   "display_name": "pystudy_env",
   "language": "python",
   "name": "python3"
  },
  "language_info": {
   "codemirror_mode": {
    "name": "ipython",
    "version": 3
   },
   "file_extension": ".py",
   "mimetype": "text/x-python",
   "name": "python",
   "nbconvert_exporter": "python",
   "pygments_lexer": "ipython3",
   "version": "3.12.8"
  }
 },
 "nbformat": 4,
 "nbformat_minor": 2
}
